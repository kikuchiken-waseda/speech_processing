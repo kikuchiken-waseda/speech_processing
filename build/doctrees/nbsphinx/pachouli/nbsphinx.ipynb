{
 "cells": [
  {
   "cell_type": "markdown",
   "metadata": {},
   "source": [
    "# nbsphinx使いやすいよって話\n",
    "\n",
    "https://qiita.com/kozo2/items/ec032ad80fe9a994f0ea\n",
    "\n",
    "https://nbsphinx.readthedocs.io/en/0.8.7/\n",
    "\n",
    "pandocいれてなくてエラー出た。sudo apt get pandocで解決。"
   ]
  },
  {
   "cell_type": "code",
   "execution_count": null,
   "metadata": {},
   "outputs": [],
   "source": []
  }
 ],
 "metadata": {
  "interpreter": {
   "hash": "28500e84bb8bdf3d31b31ff4cad8dbf3a71832462203b100cfc749f025b47257"
  },
  "kernelspec": {
   "display_name": "Python 3.7.11 64-bit ('.venv': poetry)",
   "name": "python3"
  },
  "language_info": {
   "name": "python",
   "version": "3.7.11"
  }
 },
 "nbformat": 4,
 "nbformat_minor": 2
}
